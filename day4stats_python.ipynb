{
  "nbformat": 4,
  "nbformat_minor": 0,
  "metadata": {
    "colab": {
      "provenance": [],
      "authorship_tag": "ABX9TyM3rnVcI/EZoh4IQTanR6Xk",
      "include_colab_link": true
    },
    "kernelspec": {
      "name": "python3",
      "display_name": "Python 3"
    },
    "language_info": {
      "name": "python"
    }
  },
  "cells": [
    {
      "cell_type": "markdown",
      "metadata": {
        "id": "view-in-github",
        "colab_type": "text"
      },
      "source": [
        "<a href=\"https://colab.research.google.com/github/ahashwini/Data-analytics-Projects/blob/main/day4stats_python.ipynb\" target=\"_parent\"><img src=\"https://colab.research.google.com/assets/colab-badge.svg\" alt=\"Open In Colab\"/></a>"
      ]
    },
    {
      "cell_type": "code",
      "execution_count": null,
      "metadata": {
        "id": "HC4PObrJdkBd"
      },
      "outputs": [],
      "source": [
        "# # outliers\n",
        "import numpy as np\n",
        "import matplotlib.pyplot as plt\n",
        "%matplotlib inline"
      ]
    },
    {
      "cell_type": "code",
      "source": [
        "#Define a dataset\n",
        "dataset=[11,10,12,14,12,15,102,12,14,17,19,107,10,13,12,14,12,108,12,11,14,13,15,10,15,12,10,14,13,15,10]"
      ],
      "metadata": {
        "id": "J4z0sFSbfHIp"
      },
      "execution_count": null,
      "outputs": []
    },
    {
      "cell_type": "code",
      "source": [
        "plt.hist(dataset)"
      ],
      "metadata": {
        "colab": {
          "base_uri": "https://localhost:8080/",
          "height": 334
        },
        "id": "-2NysBpJ6h1b",
        "outputId": "8641c00d-2077-4c98-9101-2be6f7e17d3c"
      },
      "execution_count": null,
      "outputs": [
        {
          "output_type": "execute_result",
          "data": {
            "text/plain": [
              "(array([28.,  0.,  0.,  0.,  0.,  0.,  0.,  0.,  0.,  3.]),\n",
              " array([ 10. ,  19.8,  29.6,  39.4,  49.2,  59. ,  68.8,  78.6,  88.4,\n",
              "         98.2, 108. ]),\n",
              " <a list of 10 Patch objects>)"
            ]
          },
          "metadata": {},
          "execution_count": 17
        },
        {
          "output_type": "display_data",
          "data": {
            "text/plain": [
              "<Figure size 432x288 with 1 Axes>"
            ],
            "image/png": "[encoded data removed]"
          },
          "metadata": {
            "needs_background": "light"
          }
        }
      ]
    },
    {
      "cell_type": "code",
      "source": [
        "outliers=[]\n",
        "\n",
        "def detect_outliers(data):\n",
        "  threshold=3    ##defines 3rd std deviation\n",
        "  mean=np.mean(data)\n",
        "  std=np.std(data)\n",
        "\n",
        "  for i in data:\n",
        "    z_score=(i-mean)/std\n",
        "    if np.abs(z_score)> threshold:\n",
        "      outliers.append(i)\n",
        "\n",
        "  return outliers"
      ],
      "metadata": {
        "id": "dmn0SYp14MS2"
      },
      "execution_count": null,
      "outputs": []
    },
    {
      "cell_type": "code",
      "source": [
        "detect_outliers(dataset)"
      ],
      "metadata": {
        "colab": {
          "base_uri": "https://localhost:8080/"
        },
        "id": "lTdfRLwf6x05",
        "outputId": "0ae5a7b6-09cf-4ce1-b414-ebefa092b62b"
      },
      "execution_count": null,
      "outputs": [
        {
          "output_type": "execute_result",
          "data": {
            "text/plain": [
              "[107, 108]"
            ]
          },
          "metadata": {},
          "execution_count": 34
        }
      ]
    },
    {
      "cell_type": "code",
      "source": [
        "dataset"
      ],
      "metadata": {
        "colab": {
          "base_uri": "https://localhost:8080/"
        },
        "id": "_fhJ8E1362W9",
        "outputId": "9c3e6055-4463-4df5-c19e-68159d8e97a5"
      },
      "execution_count": null,
      "outputs": [
        {
          "output_type": "execute_result",
          "data": {
            "text/plain": [
              "[11,\n",
              " 10,\n",
              " 12,\n",
              " 14,\n",
              " 12,\n",
              " 15,\n",
              " 102,\n",
              " 12,\n",
              " 14,\n",
              " 17,\n",
              " 19,\n",
              " 107,\n",
              " 10,\n",
              " 13,\n",
              " 12,\n",
              " 14,\n",
              " 12,\n",
              " 108,\n",
              " 12,\n",
              " 11,\n",
              " 14,\n",
              " 13,\n",
              " 15,\n",
              " 10,\n",
              " 15,\n",
              " 12,\n",
              " 10,\n",
              " 14,\n",
              " 13,\n",
              " 15,\n",
              " 10]"
            ]
          },
          "metadata": {},
          "execution_count": 32
        }
      ]
    },
    {
      "cell_type": "markdown",
      "source": [
        " Callculating IQR\n",
        " 1. Sort the data\n",
        " 2.calculate Q1 and Q3\n",
        " 3.IQR(Q3-Q1)\n",
        " 4. Find the lower fence(Q1-1.5(IQR))\n",
        " 5. Find the upper fence(Q3+1.5(IQR))\n"
      ],
      "metadata": {
        "id": "XtQwDmYBdLHK"
      }
    },
    {
      "cell_type": "code",
      "source": [
        "# sort the data\n",
        "dataset = sorted(dataset)"
      ],
      "metadata": {
        "id": "WIOXbblh9kAf"
      },
      "execution_count": null,
      "outputs": []
    },
    {
      "cell_type": "code",
      "source": [
        "dataset"
      ],
      "metadata": {
        "colab": {
          "base_uri": "https://localhost:8080/"
        },
        "id": "XGVuE4D8eGFX",
        "outputId": "2a324c5d-652f-40b2-bbe3-4381e7661798"
      },
      "execution_count": null,
      "outputs": [
        {
          "output_type": "execute_result",
          "data": {
            "text/plain": [
              "[10,\n",
              " 10,\n",
              " 10,\n",
              " 10,\n",
              " 10,\n",
              " 11,\n",
              " 11,\n",
              " 12,\n",
              " 12,\n",
              " 12,\n",
              " 12,\n",
              " 12,\n",
              " 12,\n",
              " 12,\n",
              " 13,\n",
              " 13,\n",
              " 13,\n",
              " 14,\n",
              " 14,\n",
              " 14,\n",
              " 14,\n",
              " 14,\n",
              " 15,\n",
              " 15,\n",
              " 15,\n",
              " 15,\n",
              " 17,\n",
              " 19,\n",
              " 102,\n",
              " 107,\n",
              " 108]"
            ]
          },
          "metadata": {},
          "execution_count": 36
        }
      ]
    },
    {
      "cell_type": "code",
      "source": [
        "#  Calculate Q1 and Q3\n",
        "Q1,Q3 =np.percentile(dataset,[25,75])\n",
        "print(Q1,Q3)"
      ],
      "metadata": {
        "colab": {
          "base_uri": "https://localhost:8080/"
        },
        "id": "LaQnIoXieIPF",
        "outputId": "95fcbdfd-700b-4d2f-fd6a-5628b2d44f0f"
      },
      "execution_count": null,
      "outputs": [
        {
          "output_type": "stream",
          "name": "stdout",
          "text": [
            "12.0 15.0\n"
          ]
        }
      ]
    },
    {
      "cell_type": "code",
      "source": [
        "# # calculate IQR\n",
        "iqr =Q3-Q1\n",
        "print(iqr)"
      ],
      "metadata": {
        "colab": {
          "base_uri": "https://localhost:8080/"
        },
        "id": "TVWMG4BlemI1",
        "outputId": "eef4d86f-56d6-4dc1-d2d3-0087f11a5165"
      },
      "execution_count": null,
      "outputs": [
        {
          "output_type": "stream",
          "name": "stdout",
          "text": [
            "3.0\n"
          ]
        }
      ]
    },
    {
      "cell_type": "code",
      "source": [
        "#  Find the lower and higher fence\n",
        "lower_fence=Q1-(1.5*iqr)\n",
        "upper_fence=Q3+(1.5*iqr)\n",
        "print(lower_fence,upper_fence)"
      ],
      "metadata": {
        "colab": {
          "base_uri": "https://localhost:8080/"
        },
        "id": "oUtcCHf-ey7T",
        "outputId": "a3f203b2-5754-4c65-e4d7-86cc0a57876b"
      },
      "execution_count": null,
      "outputs": [
        {
          "output_type": "stream",
          "name": "stdout",
          "text": [
            "7.5 19.5\n"
          ]
        }
      ]
    },
    {
      "cell_type": "code",
      "source": [
        "import seaborn as sns"
      ],
      "metadata": {
        "id": "Vn6G43K_fU1q"
      },
      "execution_count": null,
      "outputs": []
    },
    {
      "cell_type": "code",
      "source": [
        "sns.boxplot(dataset)"
      ],
      "metadata": {
        "colab": {
          "base_uri": "https://localhost:8080/",
          "height": 337
        },
        "id": "iXQjNVG9fZeE",
        "outputId": "ef146329-3da0-4c99-dd5c-bb69df5e4362"
      },
      "execution_count": null,
      "outputs": [
        {
          "output_type": "stream",
          "name": "stderr",
          "text": [
            "/usr/local/lib/python3.8/dist-packages/seaborn/_decorators.py:36: FutureWarning: Pass the following variable as a keyword arg: x. From version 0.12, the only valid positional argument will be `data`, and passing other arguments without an explicit keyword will result in an error or misinterpretation.\n",
            "  warnings.warn(\n"
          ]
        },
        {
          "output_type": "execute_result",
          "data": {
            "text/plain": [
              "<matplotlib.axes._subplots.AxesSubplot at 0x7f7616722550>"
            ]
          },
          "metadata": {},
          "execution_count": 42
        },
        {
          "output_type": "display_data",
          "data": {
            "text/plain": [
              "<Figure size 432x288 with 1 Axes>"
            ],
            "image/png": "[encoded data removed]"
          },
          "metadata": {
            "needs_background": "light"
          }
        }
      ]
    },
    {
      "cell_type": "code",
      "source": [
        "[x for x in dataset if (x < 7.5) or (x > 19.5)]    # comprensive list"
      ],
      "metadata": {
        "colab": {
          "base_uri": "https://localhost:8080/"
        },
        "id": "aO-3RrRUY6DG",
        "outputId": "a3a7a848-3217-4885-97d7-97e7f9226b7b"
      },
      "execution_count": null,
      "outputs": [
        {
          "output_type": "execute_result",
          "data": {
            "text/plain": [
              "[102, 107, 108]"
            ]
          },
          "metadata": {},
          "execution_count": 12
        }
      ]
    },
    {
      "cell_type": "code",
      "source": [
        "outliers=[]\n",
        "\n",
        "for i in dataset:\n",
        "  if i< 7.5 or i >19.5:\n",
        "    outliers.append(i)\n",
        "\n",
        "outliers\n",
        "\n",
        "\n"
      ],
      "metadata": {
        "colab": {
          "base_uri": "https://localhost:8080/"
        },
        "id": "NDr0mFaHfc8g",
        "outputId": "b71cc6f8-0a28-45b1-ca01-f871ce071c97"
      },
      "execution_count": null,
      "outputs": [
        {
          "output_type": "execute_result",
          "data": {
            "text/plain": [
              "[102, 107, 108]"
            ]
          },
          "metadata": {},
          "execution_count": 53
        }
      ]
    },
    {
      "cell_type": "code",
      "source": [
        "nums = []\n",
        "for i in range(10):\n",
        "    # print(i)\n",
        "    nums.append(i)\n",
        "nums"
      ],
      "metadata": {
        "colab": {
          "base_uri": "https://localhost:8080/"
        },
        "id": "USNR4VXnOU1v",
        "outputId": "be17e8f4-81fb-4de3-afcf-8fafbc030be5"
      },
      "execution_count": null,
      "outputs": [
        {
          "output_type": "execute_result",
          "data": {
            "text/plain": [
              "[0, 1, 2, 3, 4, 5, 6, 7, 8, 9]"
            ]
          },
          "metadata": {},
          "execution_count": 55
        }
      ]
    },
    {
      "cell_type": "code",
      "source": [
        "a=lambda x: f\"{x} is a outlier\" if 7.5<x>19.5 else f\"{x} is not outlier\"\n",
        "a"
      ],
      "metadata": {
        "id": "tIqZo0nNPqd7",
        "colab": {
          "base_uri": "https://localhost:8080/"
        },
        "outputId": "40176422-0a6f-484a-ad0b-8ceb07d18143"
      },
      "execution_count": null,
      "outputs": [
        {
          "output_type": "execute_result",
          "data": {
            "text/plain": [
              "<function __main__.<lambda>(x)>"
            ]
          },
          "metadata": {},
          "execution_count": 61
        }
      ]
    },
    {
      "cell_type": "code",
      "source": [
        "outfun = lambda dataset : [x for x in dataset if (x < 7.5) or (x > 19.5)]\n",
        "outfun(dataset)"
      ],
      "metadata": {
        "id": "5cl8bqY17IJs",
        "colab": {
          "base_uri": "https://localhost:8080/"
        },
        "outputId": "0f594699-c05d-478b-9960-6cad71e05bd5"
      },
      "execution_count": null,
      "outputs": [
        {
          "output_type": "execute_result",
          "data": {
            "text/plain": [
              "[102, 107, 108]"
            ]
          },
          "metadata": {},
          "execution_count": 13
        }
      ]
    },
    {
      "cell_type": "code",
      "source": [],
      "metadata": {
        "id": "uFZYK72D6Ic9"
      },
      "execution_count": null,
      "outputs": []
    }
  ]
}