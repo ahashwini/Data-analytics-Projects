{
  "nbformat": 4,
  "nbformat_minor": 0,
  "metadata": {
    "colab": {
      "provenance": [],
      "authorship_tag": "ABX9TyP7HwWaOM/SstZGGWsY5uNv",
      "include_colab_link": true
    },
    "kernelspec": {
      "name": "python3",
      "display_name": "Python 3"
    },
    "language_info": {
      "name": "python"
    }
  },
  "cells": [
    {
      "cell_type": "markdown",
      "metadata": {
        "id": "view-in-github",
        "colab_type": "text"
      },
      "source": [
        "<a href=\"https://colab.research.google.com/github/ahashwini/Data-analytics-Projects/blob/main/Webscraping_HTML.ipynb\" target=\"_parent\"><img src=\"https://colab.research.google.com/assets/colab-badge.svg\" alt=\"Open In Colab\"/></a>"
      ]
    },
    {
      "cell_type": "code",
      "execution_count": 1,
      "metadata": {
        "colab": {
          "base_uri": "https://localhost:8080/"
        },
        "id": "V9At9qeRfp0x",
        "outputId": "b15043c4-d6ea-49a4-d584-0415dae98dea"
      },
      "outputs": [
        {
          "output_type": "stream",
          "name": "stdout",
          "text": [
            "Requirement already satisfied: html5lib in /usr/local/lib/python3.10/dist-packages (1.1)\n",
            "Requirement already satisfied: six>=1.9 in /usr/local/lib/python3.10/dist-packages (from html5lib) (1.16.0)\n",
            "Requirement already satisfied: webencodings in /usr/local/lib/python3.10/dist-packages (from html5lib) (0.5.1)\n"
          ]
        }
      ],
      "source": [
        "!pip install html5lib"
      ]
    },
    {
      "cell_type": "code",
      "source": [
        "!pip install bs4\n"
      ],
      "metadata": {
        "colab": {
          "base_uri": "https://localhost:8080/"
        },
        "id": "O9cIkm-dfxV1",
        "outputId": "6a78c72e-5718-4e7a-f683-3f92a158a684"
      },
      "execution_count": 2,
      "outputs": [
        {
          "output_type": "stream",
          "name": "stdout",
          "text": [
            "Collecting bs4\n",
            "  Downloading bs4-0.0.1.tar.gz (1.1 kB)\n",
            "  Preparing metadata (setup.py) ... \u001b[?25l\u001b[?25hdone\n",
            "Requirement already satisfied: beautifulsoup4 in /usr/local/lib/python3.10/dist-packages (from bs4) (4.11.2)\n",
            "Requirement already satisfied: soupsieve>1.2 in /usr/local/lib/python3.10/dist-packages (from beautifulsoup4->bs4) (2.4.1)\n",
            "Building wheels for collected packages: bs4\n",
            "  Building wheel for bs4 (setup.py) ... \u001b[?25l\u001b[?25hdone\n",
            "  Created wheel for bs4: filename=bs4-0.0.1-py3-none-any.whl size=1256 sha256=8af6329e91b20f93dd75392bcb8c30822fe8812b45184d1620ecca2169433220\n",
            "  Stored in directory: /root/.cache/pip/wheels/25/42/45/b773edc52acb16cd2db4cf1a0b47117e2f69bb4eb300ed0e70\n",
            "Successfully built bs4\n",
            "Installing collected packages: bs4\n",
            "Successfully installed bs4-0.0.1\n"
          ]
        }
      ]
    },
    {
      "cell_type": "code",
      "source": [
        "from bs4 import BeautifulSoup # this module helps in web scrapping.\n",
        "import requests  # this module helps us to download a web page"
      ],
      "metadata": {
        "id": "2rdTTWQwf1zZ"
      },
      "execution_count": 3,
      "outputs": []
    },
    {
      "cell_type": "code",
      "source": [
        "%%html\n",
        "<!DOCTYPE html>\n",
        "<html>\n",
        "<head>\n",
        "<title>Page Title</title>\n",
        "</head>\n",
        "<body>\n",
        "<h3><b id='boldest'>Lebron James</b></h3>\n",
        "<p> Salary: $ 92,000,000 </p>\n",
        "<h3> Stephen Curry</h3>\n",
        "<p> Salary: $85,000, 000 </p>\n",
        "<h3> Kevin Durant </h3>\n",
        "<p> Salary: $73,200, 000</p>\n",
        "</body>\n",
        "</html>"
      ],
      "metadata": {
        "colab": {
          "base_uri": "https://localhost:8080/",
          "height": 203
        },
        "id": "xXmBlocYf6kz",
        "outputId": "2f651988-9550-4aca-a59d-0a6dd0d57fff"
      },
      "execution_count": 4,
      "outputs": [
        {
          "output_type": "display_data",
          "data": {
            "text/plain": [
              "<IPython.core.display.HTML object>"
            ],
            "text/html": [
              "<!DOCTYPE html>\n",
              "<html>\n",
              "<head>\n",
              "<title>Page Title</title>\n",
              "</head>\n",
              "<body>\n",
              "<h3><b id='boldest'>Lebron James</b></h3>\n",
              "<p> Salary: $ 92,000,000 </p>\n",
              "<h3> Stephen Curry</h3>\n",
              "<p> Salary: $85,000, 000 </p>\n",
              "<h3> Kevin Durant </h3>\n",
              "<p> Salary: $73,200, 000</p>\n",
              "</body>\n",
              "</html>\n"
            ]
          },
          "metadata": {}
        }
      ]
    },
    {
      "cell_type": "code",
      "source": [
        "# We can store it as a string in the variable HTML:\n",
        "\n",
        "html=\"<!DOCTYPE html><html><head><title>Page Title</title></head><body><h3><b id='boldest'>Lebron James</b></h3><p> Salary: $ 92,000,000 </p><h3> Stephen Curry</h3><p> Salary: $85,000, 000 </p><h3> Kevin Durant </h3><p> Salary: $73,200, 000</p></body></html>\""
      ],
      "metadata": {
        "id": "VCYXtW7agEZm"
      },
      "execution_count": 5,
      "outputs": []
    },
    {
      "cell_type": "code",
      "source": [
        "# To parse a document, pass it into the BeautifulSoup constructor. The BeautifulSoup object represents the document as a nested data structure:\n",
        "soup = BeautifulSoup(html, 'html5lib')"
      ],
      "metadata": {
        "id": "f91_ZY0DgRvg"
      },
      "execution_count": 17,
      "outputs": []
    },
    {
      "cell_type": "markdown",
      "source": [
        "First, the document is converted to Unicode (similar to ASCII) and HTML entities are converted to Unicode characters. Beautiful Soup transforms a complex HTML document into a complex tree of Python objects. The BeautifulSoup object can create other types of objects.\n"
      ],
      "metadata": {
        "id": "QC3KDHLQjABo"
      }
    },
    {
      "cell_type": "code",
      "source": [
        "# We can use the method prettify() to display the HTML in the nested structure:\n",
        "\n",
        "print(soup.prettify())"
      ],
      "metadata": {
        "colab": {
          "base_uri": "https://localhost:8080/"
        },
        "id": "7wOMq_CHgWjg",
        "outputId": "87e18e20-906b-4c08-e851-edb620e59e8f"
      },
      "execution_count": 18,
      "outputs": [
        {
          "output_type": "stream",
          "name": "stdout",
          "text": [
            "<!DOCTYPE html>\n",
            "<html>\n",
            " <head>\n",
            "  <title>\n",
            "   Page Title\n",
            "  </title>\n",
            " </head>\n",
            " <body>\n",
            "  <h3>\n",
            "   <b id=\"boldest\">\n",
            "    Lebron James\n",
            "   </b>\n",
            "  </h3>\n",
            "  <p>\n",
            "   Salary: $ 92,000,000\n",
            "  </p>\n",
            "  <h3>\n",
            "   Stephen Curry\n",
            "  </h3>\n",
            "  <p>\n",
            "   Salary: $85,000, 000\n",
            "  </p>\n",
            "  <h3>\n",
            "   Kevin Durant\n",
            "  </h3>\n",
            "  <p>\n",
            "   Salary: $73,200, 000\n",
            "  </p>\n",
            " </body>\n",
            "</html>\n"
          ]
        }
      ]
    },
    {
      "cell_type": "code",
      "source": [
        "tag_object=soup.title\n",
        "print(\"tag object:\",tag_object)"
      ],
      "metadata": {
        "colab": {
          "base_uri": "https://localhost:8080/"
        },
        "id": "k7akl46-gbnp",
        "outputId": "dc04f2d8-6ddd-4d44-b71e-807ae21eef94"
      },
      "execution_count": 8,
      "outputs": [
        {
          "output_type": "stream",
          "name": "stdout",
          "text": [
            "tag object: <title>Page Title</title>\n"
          ]
        }
      ]
    },
    {
      "cell_type": "code",
      "source": [
        "print(\"tag object type:\",type(tag_object))"
      ],
      "metadata": {
        "colab": {
          "base_uri": "https://localhost:8080/"
        },
        "id": "LfQlOqslggO7",
        "outputId": "2fc74866-2a43-48e6-a92b-d6dc13921e27"
      },
      "execution_count": 9,
      "outputs": [
        {
          "output_type": "stream",
          "name": "stdout",
          "text": [
            "tag object type: <class 'bs4.element.Tag'>\n"
          ]
        }
      ]
    },
    {
      "cell_type": "code",
      "source": [
        "tag_object=soup.h3\n",
        "tag_object"
      ],
      "metadata": {
        "colab": {
          "base_uri": "https://localhost:8080/"
        },
        "id": "MSHNKgtphRZg",
        "outputId": "4655bd56-376c-4752-95c6-68dceb8ba08a"
      },
      "execution_count": 10,
      "outputs": [
        {
          "output_type": "execute_result",
          "data": {
            "text/plain": [
              "<h3><b id=\"boldest\">Lebron James</b></h3>"
            ]
          },
          "metadata": {},
          "execution_count": 10
        }
      ]
    },
    {
      "cell_type": "code",
      "source": [
        "tag_child =tag_object.b\n",
        "tag_child"
      ],
      "metadata": {
        "colab": {
          "base_uri": "https://localhost:8080/"
        },
        "id": "MwGcal7DhXoc",
        "outputId": "48eda5b5-c4b4-4227-fdea-45cd4af04547"
      },
      "execution_count": 11,
      "outputs": [
        {
          "output_type": "execute_result",
          "data": {
            "text/plain": [
              "<b id=\"boldest\">Lebron James</b>"
            ]
          },
          "metadata": {},
          "execution_count": 11
        }
      ]
    },
    {
      "cell_type": "code",
      "source": [
        "parent_tag=tag_child.parent\n",
        "parent_tag"
      ],
      "metadata": {
        "colab": {
          "base_uri": "https://localhost:8080/"
        },
        "id": "qchCDD-uhcGI",
        "outputId": "124080eb-6efd-45c5-c8b3-1304f57c5317"
      },
      "execution_count": 12,
      "outputs": [
        {
          "output_type": "execute_result",
          "data": {
            "text/plain": [
              "<h3><b id=\"boldest\">Lebron James</b></h3>"
            ]
          },
          "metadata": {},
          "execution_count": 12
        }
      ]
    },
    {
      "cell_type": "code",
      "source": [
        "tag_object"
      ],
      "metadata": {
        "colab": {
          "base_uri": "https://localhost:8080/"
        },
        "id": "uGW6KMWwhi5H",
        "outputId": "f7fe918d-70b5-4108-d451-22f1f6ede9de"
      },
      "execution_count": 13,
      "outputs": [
        {
          "output_type": "execute_result",
          "data": {
            "text/plain": [
              "<h3><b id=\"boldest\">Lebron James</b></h3>"
            ]
          },
          "metadata": {},
          "execution_count": 13
        }
      ]
    },
    {
      "cell_type": "code",
      "source": [
        "tag_object.parent"
      ],
      "metadata": {
        "colab": {
          "base_uri": "https://localhost:8080/"
        },
        "id": "dYsSp3tfhm7r",
        "outputId": "3982b9df-500e-438c-c171-e3a88248a158"
      },
      "execution_count": 14,
      "outputs": [
        {
          "output_type": "execute_result",
          "data": {
            "text/plain": [
              "<body><h3><b id=\"boldest\">Lebron James</b></h3><p> Salary: $ 92,000,000 </p><h3> Stephen Curry</h3><p> Salary: $85,000, 000 </p><h3> Kevin Durant </h3><p> Salary: $73,200, 000</p></body>"
            ]
          },
          "metadata": {},
          "execution_count": 14
        }
      ]
    },
    {
      "cell_type": "code",
      "source": [
        "sibling_1=tag_object.next_sibling\n",
        "sibling_1"
      ],
      "metadata": {
        "colab": {
          "base_uri": "https://localhost:8080/"
        },
        "id": "OtmxDgm8hqtc",
        "outputId": "8646e77f-6fdd-44ad-e8e2-d2e3446a0c14"
      },
      "execution_count": 15,
      "outputs": [
        {
          "output_type": "execute_result",
          "data": {
            "text/plain": [
              "<p> Salary: $ 92,000,000 </p>"
            ]
          },
          "metadata": {},
          "execution_count": 15
        }
      ]
    },
    {
      "cell_type": "code",
      "source": [
        "sibling_2=sibling_1.next_sibling\n",
        "sibling_2"
      ],
      "metadata": {
        "colab": {
          "base_uri": "https://localhost:8080/"
        },
        "id": "lyw-dyvBhuqE",
        "outputId": "20046dca-a81c-4434-adcb-d810a01c9eaf"
      },
      "execution_count": 16,
      "outputs": [
        {
          "output_type": "execute_result",
          "data": {
            "text/plain": [
              "<h3> Stephen Curry</h3>"
            ]
          },
          "metadata": {},
          "execution_count": 16
        }
      ]
    },
    {
      "cell_type": "code",
      "source": [
        "# lets find salary of Stephen Curry:\n",
        "sibling_2.next_sibling"
      ],
      "metadata": {
        "colab": {
          "base_uri": "https://localhost:8080/"
        },
        "id": "vAHQ1D_ch0HS",
        "outputId": "0b89036e-c03a-436f-d1e1-1262cea64359"
      },
      "execution_count": 19,
      "outputs": [
        {
          "output_type": "execute_result",
          "data": {
            "text/plain": [
              "<p> Salary: $85,000, 000 </p>"
            ]
          },
          "metadata": {},
          "execution_count": 19
        }
      ]
    },
    {
      "cell_type": "code",
      "source": [
        "# You can access a tag's attributes by treating the tag like a dictionary:\n",
        "tag_child['id']"
      ],
      "metadata": {
        "colab": {
          "base_uri": "https://localhost:8080/",
          "height": 35
        },
        "id": "4SHHo66ukD5p",
        "outputId": "e2d5b248-b818-444b-ba3b-69b93b5ca16f"
      },
      "execution_count": 20,
      "outputs": [
        {
          "output_type": "execute_result",
          "data": {
            "text/plain": [
              "'boldest'"
            ],
            "application/vnd.google.colaboratory.intrinsic+json": {
              "type": "string"
            }
          },
          "metadata": {},
          "execution_count": 20
        }
      ]
    },
    {
      "cell_type": "code",
      "source": [
        "tag_child.attrs"
      ],
      "metadata": {
        "colab": {
          "base_uri": "https://localhost:8080/"
        },
        "id": "cn-LFkr3kUvo",
        "outputId": "74684822-9835-4e78-a4ae-9c3ccdded08d"
      },
      "execution_count": 21,
      "outputs": [
        {
          "output_type": "execute_result",
          "data": {
            "text/plain": [
              "{'id': 'boldest'}"
            ]
          },
          "metadata": {},
          "execution_count": 21
        }
      ]
    },
    {
      "cell_type": "code",
      "source": [
        "tag_child.get('id')"
      ],
      "metadata": {
        "colab": {
          "base_uri": "https://localhost:8080/",
          "height": 35
        },
        "id": "dOJbCvTXkgL7",
        "outputId": "14458841-0743-46f2-8f6b-8db37bdb13ea"
      },
      "execution_count": 23,
      "outputs": [
        {
          "output_type": "execute_result",
          "data": {
            "text/plain": [
              "'boldest'"
            ],
            "application/vnd.google.colaboratory.intrinsic+json": {
              "type": "string"
            }
          },
          "metadata": {},
          "execution_count": 23
        }
      ]
    },
    {
      "cell_type": "code",
      "source": [
        "tag_string=tag_child.string\n",
        "tag_string"
      ],
      "metadata": {
        "colab": {
          "base_uri": "https://localhost:8080/",
          "height": 35
        },
        "id": "XEMAuZaukrUf",
        "outputId": "db64052a-f879-423c-80e6-6e307ccf66a3"
      },
      "execution_count": 24,
      "outputs": [
        {
          "output_type": "execute_result",
          "data": {
            "text/plain": [
              "'Lebron James'"
            ],
            "application/vnd.google.colaboratory.intrinsic+json": {
              "type": "string"
            }
          },
          "metadata": {},
          "execution_count": 24
        }
      ]
    },
    {
      "cell_type": "code",
      "source": [
        "type(tag_string)"
      ],
      "metadata": {
        "colab": {
          "base_uri": "https://localhost:8080/"
        },
        "id": "a1YyUOP0k3Vs",
        "outputId": "4d86f728-f8c9-483f-f045-777b243ae072"
      },
      "execution_count": 25,
      "outputs": [
        {
          "output_type": "execute_result",
          "data": {
            "text/plain": [
              "bs4.element.NavigableString"
            ]
          },
          "metadata": {},
          "execution_count": 25
        }
      ]
    },
    {
      "cell_type": "code",
      "source": [
        "unicode_string = str(tag_string)\n",
        "unicode_string"
      ],
      "metadata": {
        "colab": {
          "base_uri": "https://localhost:8080/",
          "height": 35
        },
        "id": "NQcf5PSMk95L",
        "outputId": "696c211e-a60d-4f3a-b534-f4b43ec0c2cf"
      },
      "execution_count": 26,
      "outputs": [
        {
          "output_type": "execute_result",
          "data": {
            "text/plain": [
              "'Lebron James'"
            ],
            "application/vnd.google.colaboratory.intrinsic+json": {
              "type": "string"
            }
          },
          "metadata": {},
          "execution_count": 26
        }
      ]
    },
    {
      "cell_type": "code",
      "source": [
        "%%html\n",
        "<table>\n",
        "  <tr>\n",
        "    <td id='flight' >Flight No</td>\n",
        "    <td>Launch site</td>\n",
        "    <td>Payload mass</td>\n",
        "   </tr>\n",
        "  <tr>\n",
        "    <td>1</td>\n",
        "    <td><a href='https://en.wikipedia.org/wiki/Florida'>Florida</a></td>\n",
        "    <td>300 kg</td>\n",
        "  </tr>\n",
        "  <tr>\n",
        "    <td>2</td>\n",
        "    <td><a href='https://en.wikipedia.org/wiki/Texas'>Texas</a></td>\n",
        "    <td>94 kg</td>\n",
        "  </tr>\n",
        "  <tr>\n",
        "    <td>3</td>\n",
        "    <td><a href='https://en.wikipedia.org/wiki/Florida'>Florida<a> </td>\n",
        "    <td>80 kg</td>\n",
        "  </tr>\n",
        "</table>"
      ],
      "metadata": {
        "colab": {
          "base_uri": "https://localhost:8080/",
          "height": 104
        },
        "id": "aLPdvv25lCyq",
        "outputId": "3ce82846-eebc-4baa-ffbf-214458fd6e42"
      },
      "execution_count": 27,
      "outputs": [
        {
          "output_type": "display_data",
          "data": {
            "text/plain": [
              "<IPython.core.display.HTML object>"
            ],
            "text/html": [
              "<table>\n",
              "  <tr>\n",
              "    <td id='flight' >Flight No</td>\n",
              "    <td>Launch site</td> \n",
              "    <td>Payload mass</td>\n",
              "   </tr>\n",
              "  <tr> \n",
              "    <td>1</td>\n",
              "    <td><a href='https://en.wikipedia.org/wiki/Florida'>Florida</a></td>\n",
              "    <td>300 kg</td>\n",
              "  </tr>\n",
              "  <tr>\n",
              "    <td>2</td>\n",
              "    <td><a href='https://en.wikipedia.org/wiki/Texas'>Texas</a></td>\n",
              "    <td>94 kg</td>\n",
              "  </tr>\n",
              "  <tr>\n",
              "    <td>3</td>\n",
              "    <td><a href='https://en.wikipedia.org/wiki/Florida'>Florida<a> </td>\n",
              "    <td>80 kg</td>\n",
              "  </tr>\n",
              "</table>\n"
            ]
          },
          "metadata": {}
        }
      ]
    },
    {
      "cell_type": "code",
      "source": [
        "table=\"<table><tr><td id='flight'>Flight No</td><td>Launch site</td> <td>Payload mass</td></tr><tr> <td>1</td><td><a href='https://en.wikipedia.org/wiki/Florida'>Florida<a></td><td>300 kg</td></tr><tr><td>2</td><td><a href='https://en.wikipedia.org/wiki/Texas'>Texas</a></td><td>94 kg</td></tr><tr><td>3</td><td><a href='https://en.wikipedia.org/wiki/Florida'>Florida<a> </td><td>80 kg</td></tr></table>\""
      ],
      "metadata": {
        "id": "mtjuX4SMlJ2M"
      },
      "execution_count": 28,
      "outputs": []
    },
    {
      "cell_type": "code",
      "source": [
        "table_bs = BeautifulSoup(table, 'html5lib')"
      ],
      "metadata": {
        "id": "FMUuA5JSlPrX"
      },
      "execution_count": 29,
      "outputs": []
    },
    {
      "cell_type": "code",
      "source": [
        "# find all\n",
        "table_rows=table_bs.find_all('tr')\n",
        "table_rows"
      ],
      "metadata": {
        "colab": {
          "base_uri": "https://localhost:8080/"
        },
        "id": "PeilboGwlYLT",
        "outputId": "f2337b92-f1f3-45da-e212-f049b4695879"
      },
      "execution_count": 30,
      "outputs": [
        {
          "output_type": "execute_result",
          "data": {
            "text/plain": [
              "[<tr><td id=\"flight\">Flight No</td><td>Launch site</td> <td>Payload mass</td></tr>,\n",
              " <tr> <td>1</td><td><a href=\"https://en.wikipedia.org/wiki/Florida\">Florida</a><a></a></td><td>300 kg</td></tr>,\n",
              " <tr><td>2</td><td><a href=\"https://en.wikipedia.org/wiki/Texas\">Texas</a></td><td>94 kg</td></tr>,\n",
              " <tr><td>3</td><td><a href=\"https://en.wikipedia.org/wiki/Florida\">Florida</a><a> </a></td><td>80 kg</td></tr>]"
            ]
          },
          "metadata": {},
          "execution_count": 30
        }
      ]
    },
    {
      "cell_type": "code",
      "source": [
        "first_row =table_rows[0]\n",
        "first_row"
      ],
      "metadata": {
        "colab": {
          "base_uri": "https://localhost:8080/"
        },
        "id": "b_cqCfEVlizP",
        "outputId": "a51c600e-dd04-4664-976f-83dfcfd123fb"
      },
      "execution_count": 31,
      "outputs": [
        {
          "output_type": "execute_result",
          "data": {
            "text/plain": [
              "<tr><td id=\"flight\">Flight No</td><td>Launch site</td> <td>Payload mass</td></tr>"
            ]
          },
          "metadata": {},
          "execution_count": 31
        }
      ]
    },
    {
      "cell_type": "code",
      "source": [
        "print(type(first_row))"
      ],
      "metadata": {
        "colab": {
          "base_uri": "https://localhost:8080/"
        },
        "id": "SUscFQ4clvkV",
        "outputId": "661ffd88-7754-47ec-bf8e-06df8dcf12cb"
      },
      "execution_count": 32,
      "outputs": [
        {
          "output_type": "stream",
          "name": "stdout",
          "text": [
            "<class 'bs4.element.Tag'>\n"
          ]
        }
      ]
    },
    {
      "cell_type": "code",
      "source": [
        "first_row.td"
      ],
      "metadata": {
        "colab": {
          "base_uri": "https://localhost:8080/"
        },
        "id": "SJm7DNPLlzzA",
        "outputId": "2c28dee5-982e-4b8a-8591-67de3d366e47"
      },
      "execution_count": 33,
      "outputs": [
        {
          "output_type": "execute_result",
          "data": {
            "text/plain": [
              "<td id=\"flight\">Flight No</td>"
            ]
          },
          "metadata": {},
          "execution_count": 33
        }
      ]
    },
    {
      "cell_type": "code",
      "source": [
        "for i,row in enumerate(table_rows):\n",
        "    print(\"row\",i,\"is\",row)\n",
        ""
      ],
      "metadata": {
        "colab": {
          "base_uri": "https://localhost:8080/"
        },
        "id": "jR-CnlqOl85Z",
        "outputId": "bd94650a-8f4d-46f0-ba8f-1b614e87fdf3"
      },
      "execution_count": 34,
      "outputs": [
        {
          "output_type": "stream",
          "name": "stdout",
          "text": [
            "row 0 is <tr><td id=\"flight\">Flight No</td><td>Launch site</td> <td>Payload mass</td></tr>\n",
            "row 1 is <tr> <td>1</td><td><a href=\"https://en.wikipedia.org/wiki/Florida\">Florida</a><a></a></td><td>300 kg</td></tr>\n",
            "row 2 is <tr><td>2</td><td><a href=\"https://en.wikipedia.org/wiki/Texas\">Texas</a></td><td>94 kg</td></tr>\n",
            "row 3 is <tr><td>3</td><td><a href=\"https://en.wikipedia.org/wiki/Florida\">Florida</a><a> </a></td><td>80 kg</td></tr>\n"
          ]
        }
      ]
    },
    {
      "cell_type": "code",
      "source": [
        "for i,row in enumerate(table_rows):\n",
        "    print(\"row\",i)\n",
        "    cells=row.find_all('td')\n",
        "    for j,cell in enumerate(cells):\n",
        "        print('colunm',j,\"cell\",cell)"
      ],
      "metadata": {
        "colab": {
          "base_uri": "https://localhost:8080/"
        },
        "id": "c883qwe0mF5K",
        "outputId": "d128f456-4cb8-40bd-9fb4-7394e3569a70"
      },
      "execution_count": 35,
      "outputs": [
        {
          "output_type": "stream",
          "name": "stdout",
          "text": [
            "row 0\n",
            "colunm 0 cell <td id=\"flight\">Flight No</td>\n",
            "colunm 1 cell <td>Launch site</td>\n",
            "colunm 2 cell <td>Payload mass</td>\n",
            "row 1\n",
            "colunm 0 cell <td>1</td>\n",
            "colunm 1 cell <td><a href=\"https://en.wikipedia.org/wiki/Florida\">Florida</a><a></a></td>\n",
            "colunm 2 cell <td>300 kg</td>\n",
            "row 2\n",
            "colunm 0 cell <td>2</td>\n",
            "colunm 1 cell <td><a href=\"https://en.wikipedia.org/wiki/Texas\">Texas</a></td>\n",
            "colunm 2 cell <td>94 kg</td>\n",
            "row 3\n",
            "colunm 0 cell <td>3</td>\n",
            "colunm 1 cell <td><a href=\"https://en.wikipedia.org/wiki/Florida\">Florida</a><a> </a></td>\n",
            "colunm 2 cell <td>80 kg</td>\n"
          ]
        }
      ]
    },
    {
      "cell_type": "code",
      "source": [
        "list_input=table_bs .find_all(name=[\"tr\", \"td\"])\n",
        "list_input"
      ],
      "metadata": {
        "colab": {
          "base_uri": "https://localhost:8080/"
        },
        "id": "NYj54TUXmM3x",
        "outputId": "49835a8c-29db-4232-ffb7-73975e529cf2"
      },
      "execution_count": 36,
      "outputs": [
        {
          "output_type": "execute_result",
          "data": {
            "text/plain": [
              "[<tr><td id=\"flight\">Flight No</td><td>Launch site</td> <td>Payload mass</td></tr>,\n",
              " <td id=\"flight\">Flight No</td>,\n",
              " <td>Launch site</td>,\n",
              " <td>Payload mass</td>,\n",
              " <tr> <td>1</td><td><a href=\"https://en.wikipedia.org/wiki/Florida\">Florida</a><a></a></td><td>300 kg</td></tr>,\n",
              " <td>1</td>,\n",
              " <td><a href=\"https://en.wikipedia.org/wiki/Florida\">Florida</a><a></a></td>,\n",
              " <td>300 kg</td>,\n",
              " <tr><td>2</td><td><a href=\"https://en.wikipedia.org/wiki/Texas\">Texas</a></td><td>94 kg</td></tr>,\n",
              " <td>2</td>,\n",
              " <td><a href=\"https://en.wikipedia.org/wiki/Texas\">Texas</a></td>,\n",
              " <td>94 kg</td>,\n",
              " <tr><td>3</td><td><a href=\"https://en.wikipedia.org/wiki/Florida\">Florida</a><a> </a></td><td>80 kg</td></tr>,\n",
              " <td>3</td>,\n",
              " <td><a href=\"https://en.wikipedia.org/wiki/Florida\">Florida</a><a> </a></td>,\n",
              " <td>80 kg</td>]"
            ]
          },
          "metadata": {},
          "execution_count": 36
        }
      ]
    },
    {
      "cell_type": "code",
      "source": [
        "table_bs.find_all(id=\"flight\")"
      ],
      "metadata": {
        "colab": {
          "base_uri": "https://localhost:8080/"
        },
        "id": "WGNH94mvmSRh",
        "outputId": "f05c8e2e-fe16-450d-be9e-b6852c109159"
      },
      "execution_count": 37,
      "outputs": [
        {
          "output_type": "execute_result",
          "data": {
            "text/plain": [
              "[<td id=\"flight\">Flight No</td>]"
            ]
          },
          "metadata": {},
          "execution_count": 37
        }
      ]
    },
    {
      "cell_type": "code",
      "source": [
        "list_input=table_bs.find_all(href=\"https://en.wikipedia.org/wiki/Florida\")\n",
        "list_input"
      ],
      "metadata": {
        "colab": {
          "base_uri": "https://localhost:8080/"
        },
        "id": "5DbYrqLamWyC",
        "outputId": "3ae0d95a-d296-4628-9c25-a17d2ae069d8"
      },
      "execution_count": 38,
      "outputs": [
        {
          "output_type": "execute_result",
          "data": {
            "text/plain": [
              "[<a href=\"https://en.wikipedia.org/wiki/Florida\">Florida</a>,\n",
              " <a href=\"https://en.wikipedia.org/wiki/Florida\">Florida</a>]"
            ]
          },
          "metadata": {},
          "execution_count": 38
        }
      ]
    },
    {
      "cell_type": "code",
      "source": [
        "table_bs.find_all(href=True)"
      ],
      "metadata": {
        "colab": {
          "base_uri": "https://localhost:8080/"
        },
        "id": "_TcwHoYymbdB",
        "outputId": "1de2e379-497f-42b6-c003-34d797ec5429"
      },
      "execution_count": 39,
      "outputs": [
        {
          "output_type": "execute_result",
          "data": {
            "text/plain": [
              "[<a href=\"https://en.wikipedia.org/wiki/Florida\">Florida</a>,\n",
              " <a href=\"https://en.wikipedia.org/wiki/Texas\">Texas</a>,\n",
              " <a href=\"https://en.wikipedia.org/wiki/Florida\">Florida</a>]"
            ]
          },
          "metadata": {},
          "execution_count": 39
        }
      ]
    },
    {
      "cell_type": "code",
      "source": [
        "# find all the elements without href value\n",
        "table_bs.find_all(href=False)"
      ],
      "metadata": {
        "colab": {
          "base_uri": "https://localhost:8080/"
        },
        "id": "8UI_XhAvmgzE",
        "outputId": "bfbb30a2-e02e-41d2-bdd3-32cd00794bb9"
      },
      "execution_count": 40,
      "outputs": [
        {
          "output_type": "execute_result",
          "data": {
            "text/plain": [
              "[<html><head></head><body><table><tbody><tr><td id=\"flight\">Flight No</td><td>Launch site</td> <td>Payload mass</td></tr><tr> <td>1</td><td><a href=\"https://en.wikipedia.org/wiki/Florida\">Florida</a><a></a></td><td>300 kg</td></tr><tr><td>2</td><td><a href=\"https://en.wikipedia.org/wiki/Texas\">Texas</a></td><td>94 kg</td></tr><tr><td>3</td><td><a href=\"https://en.wikipedia.org/wiki/Florida\">Florida</a><a> </a></td><td>80 kg</td></tr></tbody></table></body></html>,\n",
              " <head></head>,\n",
              " <body><table><tbody><tr><td id=\"flight\">Flight No</td><td>Launch site</td> <td>Payload mass</td></tr><tr> <td>1</td><td><a href=\"https://en.wikipedia.org/wiki/Florida\">Florida</a><a></a></td><td>300 kg</td></tr><tr><td>2</td><td><a href=\"https://en.wikipedia.org/wiki/Texas\">Texas</a></td><td>94 kg</td></tr><tr><td>3</td><td><a href=\"https://en.wikipedia.org/wiki/Florida\">Florida</a><a> </a></td><td>80 kg</td></tr></tbody></table></body>,\n",
              " <table><tbody><tr><td id=\"flight\">Flight No</td><td>Launch site</td> <td>Payload mass</td></tr><tr> <td>1</td><td><a href=\"https://en.wikipedia.org/wiki/Florida\">Florida</a><a></a></td><td>300 kg</td></tr><tr><td>2</td><td><a href=\"https://en.wikipedia.org/wiki/Texas\">Texas</a></td><td>94 kg</td></tr><tr><td>3</td><td><a href=\"https://en.wikipedia.org/wiki/Florida\">Florida</a><a> </a></td><td>80 kg</td></tr></tbody></table>,\n",
              " <tbody><tr><td id=\"flight\">Flight No</td><td>Launch site</td> <td>Payload mass</td></tr><tr> <td>1</td><td><a href=\"https://en.wikipedia.org/wiki/Florida\">Florida</a><a></a></td><td>300 kg</td></tr><tr><td>2</td><td><a href=\"https://en.wikipedia.org/wiki/Texas\">Texas</a></td><td>94 kg</td></tr><tr><td>3</td><td><a href=\"https://en.wikipedia.org/wiki/Florida\">Florida</a><a> </a></td><td>80 kg</td></tr></tbody>,\n",
              " <tr><td id=\"flight\">Flight No</td><td>Launch site</td> <td>Payload mass</td></tr>,\n",
              " <td id=\"flight\">Flight No</td>,\n",
              " <td>Launch site</td>,\n",
              " <td>Payload mass</td>,\n",
              " <tr> <td>1</td><td><a href=\"https://en.wikipedia.org/wiki/Florida\">Florida</a><a></a></td><td>300 kg</td></tr>,\n",
              " <td>1</td>,\n",
              " <td><a href=\"https://en.wikipedia.org/wiki/Florida\">Florida</a><a></a></td>,\n",
              " <a></a>,\n",
              " <td>300 kg</td>,\n",
              " <tr><td>2</td><td><a href=\"https://en.wikipedia.org/wiki/Texas\">Texas</a></td><td>94 kg</td></tr>,\n",
              " <td>2</td>,\n",
              " <td><a href=\"https://en.wikipedia.org/wiki/Texas\">Texas</a></td>,\n",
              " <td>94 kg</td>,\n",
              " <tr><td>3</td><td><a href=\"https://en.wikipedia.org/wiki/Florida\">Florida</a><a> </a></td><td>80 kg</td></tr>,\n",
              " <td>3</td>,\n",
              " <td><a href=\"https://en.wikipedia.org/wiki/Florida\">Florida</a><a> </a></td>,\n",
              " <a> </a>,\n",
              " <td>80 kg</td>]"
            ]
          },
          "metadata": {},
          "execution_count": 40
        }
      ]
    },
    {
      "cell_type": "code",
      "source": [
        "soup.find_all(id ='boldest')"
      ],
      "metadata": {
        "colab": {
          "base_uri": "https://localhost:8080/"
        },
        "id": "w2_1qZAGm0M0",
        "outputId": "fe99d21a-34bf-44c7-ab07-7356fea8cf80"
      },
      "execution_count": 41,
      "outputs": [
        {
          "output_type": "execute_result",
          "data": {
            "text/plain": [
              "[<b id=\"boldest\">Lebron James</b>]"
            ]
          },
          "metadata": {},
          "execution_count": 41
        }
      ]
    },
    {
      "cell_type": "code",
      "source": [
        "table_bs.find_all(string=\"Florida\")"
      ],
      "metadata": {
        "colab": {
          "base_uri": "https://localhost:8080/"
        },
        "id": "ola1atMtnVF5",
        "outputId": "141a4696-055b-4cad-e6bd-36c734b599d6"
      },
      "execution_count": 42,
      "outputs": [
        {
          "output_type": "execute_result",
          "data": {
            "text/plain": [
              "['Florida', 'Florida']"
            ]
          },
          "metadata": {},
          "execution_count": 42
        }
      ]
    },
    {
      "cell_type": "code",
      "source": [
        "%%html\n",
        "<h3>Rocket Launch </h3>\n",
        "\n",
        "<p>\n",
        "<table class='rocket'>\n",
        "  <tr>\n",
        "    <td>Flight No</td>\n",
        "    <td>Launch site</td>\n",
        "    <td>Payload mass</td>\n",
        "  </tr>\n",
        "  <tr>\n",
        "    <td>1</td>\n",
        "    <td>Florida</td>\n",
        "    <td>300 kg</td>\n",
        "  </tr>\n",
        "  <tr>\n",
        "    <td>2</td>\n",
        "    <td>Texas</td>\n",
        "    <td>94 kg</td>\n",
        "  </tr>\n",
        "  <tr>\n",
        "    <td>3</td>\n",
        "    <td>Florida </td>\n",
        "    <td>80 kg</td>\n",
        "  </tr>\n",
        "</table>\n",
        "</p>\n",
        "<p>\n",
        "\n",
        "<h3>Pizza Party  </h3>\n",
        "\n",
        "\n",
        "<table class='pizza'>\n",
        "  <tr>\n",
        "    <td>Pizza Place</td>\n",
        "    <td>Orders</td>\n",
        "    <td>Slices </td>\n",
        "   </tr>\n",
        "  <tr>\n",
        "    <td>Domino's Pizza</td>\n",
        "    <td>10</td>\n",
        "    <td>100</td>\n",
        "  </tr>\n",
        "  <tr>\n",
        "    <td>Little Caesars</td>\n",
        "    <td>12</td>\n",
        "    <td >144 </td>\n",
        "  </tr>\n",
        "  <tr>\n",
        "    <td>Papa John's </td>\n",
        "    <td>15 </td>\n",
        "    <td>165</td>\n",
        "  </tr>\n"
      ],
      "metadata": {
        "colab": {
          "base_uri": "https://localhost:8080/",
          "height": 275
        },
        "id": "zq9L6OaOnY3H",
        "outputId": "8d42287c-edf3-49de-b0e3-6a12950bbc01"
      },
      "execution_count": 43,
      "outputs": [
        {
          "output_type": "display_data",
          "data": {
            "text/plain": [
              "<IPython.core.display.HTML object>"
            ],
            "text/html": [
              "<h3>Rocket Launch </h3>\n",
              "\n",
              "<p>\n",
              "<table class='rocket'>\n",
              "  <tr>\n",
              "    <td>Flight No</td>\n",
              "    <td>Launch site</td> \n",
              "    <td>Payload mass</td>\n",
              "  </tr>\n",
              "  <tr>\n",
              "    <td>1</td>\n",
              "    <td>Florida</td>\n",
              "    <td>300 kg</td>\n",
              "  </tr>\n",
              "  <tr>\n",
              "    <td>2</td>\n",
              "    <td>Texas</td>\n",
              "    <td>94 kg</td>\n",
              "  </tr>\n",
              "  <tr>\n",
              "    <td>3</td>\n",
              "    <td>Florida </td>\n",
              "    <td>80 kg</td>\n",
              "  </tr>\n",
              "</table>\n",
              "</p>\n",
              "<p>\n",
              "\n",
              "<h3>Pizza Party  </h3>\n",
              "  \n",
              "    \n",
              "<table class='pizza'>\n",
              "  <tr>\n",
              "    <td>Pizza Place</td>\n",
              "    <td>Orders</td> \n",
              "    <td>Slices </td>\n",
              "   </tr>\n",
              "  <tr>\n",
              "    <td>Domino's Pizza</td>\n",
              "    <td>10</td>\n",
              "    <td>100</td>\n",
              "  </tr>\n",
              "  <tr>\n",
              "    <td>Little Caesars</td>\n",
              "    <td>12</td>\n",
              "    <td >144 </td>\n",
              "  </tr>\n",
              "  <tr>\n",
              "    <td>Papa John's </td>\n",
              "    <td>15 </td>\n",
              "    <td>165</td>\n",
              "  </tr>\n"
            ]
          },
          "metadata": {}
        }
      ]
    },
    {
      "cell_type": "code",
      "source": [
        "two_tables=\"<h3>Rocket Launch </h3><p><table class='rocket'><tr><td>Flight No</td><td>Launch site</td> <td>Payload mass</td></tr><tr><td>1</td><td>Florida</td><td>300 kg</td></tr><tr><td>2</td><td>Texas</td><td>94 kg</td></tr><tr><td>3</td><td>Florida </td><td>80 kg</td></tr></table></p><p><h3>Pizza Party  </h3><table class='pizza'><tr><td>Pizza Place</td><td>Orders</td> <td>Slices </td></tr><tr><td>Domino's Pizza</td><td>10</td><td>100</td></tr><tr><td>Little Caesars</td><td>12</td><td >144 </td></tr><tr><td>Papa John's </td><td>15 </td><td>165</td></tr>\""
      ],
      "metadata": {
        "id": "kbekwmHynoym"
      },
      "execution_count": 44,
      "outputs": []
    },
    {
      "cell_type": "code",
      "source": [
        "two_tables_bs= BeautifulSoup(two_tables, 'html.parser')"
      ],
      "metadata": {
        "id": "2IH_Tum3nvbp"
      },
      "execution_count": 45,
      "outputs": []
    },
    {
      "cell_type": "code",
      "source": [
        "two_tables_bs.find(\"table\")"
      ],
      "metadata": {
        "colab": {
          "base_uri": "https://localhost:8080/"
        },
        "id": "wsprPOaRn06r",
        "outputId": "f0e06ca7-fe2b-4f65-b93b-91d82c1a976c"
      },
      "execution_count": 46,
      "outputs": [
        {
          "output_type": "execute_result",
          "data": {
            "text/plain": [
              "<table class=\"rocket\"><tr><td>Flight No</td><td>Launch site</td> <td>Payload mass</td></tr><tr><td>1</td><td>Florida</td><td>300 kg</td></tr><tr><td>2</td><td>Texas</td><td>94 kg</td></tr><tr><td>3</td><td>Florida </td><td>80 kg</td></tr></table>"
            ]
          },
          "metadata": {},
          "execution_count": 46
        }
      ]
    },
    {
      "cell_type": "code",
      "source": [
        "two_tables_bs.find(\"table\",class_='pizza')"
      ],
      "metadata": {
        "colab": {
          "base_uri": "https://localhost:8080/"
        },
        "id": "EqraLCsFn84G",
        "outputId": "d3778d32-841d-4f3e-c77d-5b26d0c546fc"
      },
      "execution_count": 47,
      "outputs": [
        {
          "output_type": "execute_result",
          "data": {
            "text/plain": [
              "<table class=\"pizza\"><tr><td>Pizza Place</td><td>Orders</td> <td>Slices </td></tr><tr><td>Domino's Pizza</td><td>10</td><td>100</td></tr><tr><td>Little Caesars</td><td>12</td><td>144 </td></tr><tr><td>Papa John's </td><td>15 </td><td>165</td></tr></table>"
            ]
          },
          "metadata": {},
          "execution_count": 47
        }
      ]
    },
    {
      "cell_type": "code",
      "source": [],
      "metadata": {
        "id": "F6PAkAItoB8K"
      },
      "execution_count": null,
      "outputs": []
    },
    {
      "cell_type": "markdown",
      "source": [
        "## Downloading And Scraping The Contents Of A Web **Page**"
      ],
      "metadata": {
        "id": "cg0BJpd2oNkq"
      }
    },
    {
      "cell_type": "code",
      "source": [
        "url = \"http://www.ibm.com\""
      ],
      "metadata": {
        "id": "U9hDW6JJoQKm"
      },
      "execution_count": 48,
      "outputs": []
    },
    {
      "cell_type": "code",
      "source": [
        "# We use get to download the contents of the webpage in text format and store in a variable called data:\n",
        "data  = requests.get(url).text"
      ],
      "metadata": {
        "id": "4xz2MC0UoUMd"
      },
      "execution_count": 49,
      "outputs": []
    },
    {
      "cell_type": "markdown",
      "source": [],
      "metadata": {
        "id": "OFeBbthyoomx"
      }
    },
    {
      "cell_type": "markdown",
      "source": [
        "We create a BeautifulSoup object using the BeautifulSoup constructor"
      ],
      "metadata": {
        "id": "2bmKehZkooLm"
      }
    },
    {
      "cell_type": "code",
      "source": [
        "soup = BeautifulSoup(data,\"html5lib\")  # create a soup object using the variable 'data'"
      ],
      "metadata": {
        "id": "12z5W-o0okoU"
      },
      "execution_count": 50,
      "outputs": []
    },
    {
      "cell_type": "markdown",
      "source": [
        "lets Scrape all links"
      ],
      "metadata": {
        "id": "woVTlgCHoyZ8"
      }
    },
    {
      "cell_type": "code",
      "source": [
        "for link in soup.find_all('a',href=True):  # in html anchor/link is represented by the tag <a>\n",
        "\n",
        "    print(link.get('href'))\n"
      ],
      "metadata": {
        "colab": {
          "base_uri": "https://localhost:8080/"
        },
        "id": "Ar5ZvhRmot1g",
        "outputId": "540f1d58-3086-46a2-95f6-7a8e53af2d8e"
      },
      "execution_count": 51,
      "outputs": [
        {
          "output_type": "stream",
          "name": "stdout",
          "text": [
            "https://newsroom.ibm.com/2023-08-10-IBM-Completes-Acquisition-of-Apptio-Inc\n",
            "https://www.ibm.com/community/ibm-techxchange-conference\n",
            "https://www.ibm.com/products/watsonx-ai\n",
            "https://www.ibm.com/products/watsonx-data\n",
            "https://www.ibm.com/products/spss-statistics/pricing\n",
            "https://www.ibm.com/products/planning-analytics?lnk=flatitem\n",
            "https://www.ibm.com/cloud?lnk=flatitem\n",
            "https://www.ibm.com/products\n",
            "#bx--custom-footnotes\n",
            "https://www.ibm.com/consulting\n",
            "https://www.ibm.com/about\n",
            "https://www.gartner.com/en/documents/4007140\n",
            "https://www.ibm.com/\n"
          ]
        }
      ]
    },
    {
      "cell_type": "code",
      "source": [],
      "metadata": {
        "id": "NN3Bl1Peo8Jh"
      },
      "execution_count": null,
      "outputs": []
    },
    {
      "cell_type": "markdown",
      "source": [
        "Scrape all images Tags"
      ],
      "metadata": {
        "id": "S1wH53_lpEQD"
      }
    },
    {
      "cell_type": "code",
      "source": [
        "for link in soup.find_all('img'):# in html image is represented by the tag <img>\n",
        "    print(link)\n",
        "    print(link.get('src'))"
      ],
      "metadata": {
        "colab": {
          "base_uri": "https://localhost:8080/"
        },
        "id": "EMOavZgtpKOt",
        "outputId": "81e01f65-338b-4496-989b-2a3b6c4b07f6"
      },
      "execution_count": 52,
      "outputs": [
        {
          "output_type": "stream",
          "name": "stdout",
          "text": [
            "<img alt=\"Tennis player returns serve in Wimbledon stadium\" class=\"bx--image__img\" src=\"https://1.dam.s81c.com/p/0c627169442d5243/ibm_watsonx_data_closeup_still_4k.jpg.global.sr_1x1.jpg\"/>\n",
            "https://1.dam.s81c.com/p/0c627169442d5243/ibm_watsonx_data_closeup_still_4k.jpg.global.sr_1x1.jpg\n",
            "<img alt=\"Concentric illustration showing watsonx.ai capabilities\" aria-describedby=\"bx--image-3\" class=\"bx--image__img\" src=\"https://1.dam.s81c.com/p/0c3ce2dfcccd1f24/watsonx-data-square.jpg\"/>\n",
            "https://1.dam.s81c.com/p/0c3ce2dfcccd1f24/watsonx-data-square.jpg\n",
            "<img alt=\"Illustration of workers digital planning with blue dots and post-its\" aria-describedby=\"bx--image-4\" class=\"bx--image__img\" src=\"https://1.dam.s81c.com/p/0c3ce2dfcccd1f25/watsonx-ai-square.jpg\"/>\n",
            "https://1.dam.s81c.com/p/0c3ce2dfcccd1f25/watsonx-ai-square.jpg\n",
            "<img alt=\"Illustration of people at large digital dashboard\" aria-describedby=\"bx--image-5\" class=\"bx--image__img\" src=\"https://1.dam.s81c.com/p/0b5258b292cc8c3c/ibm-SPSS-home-card.png.global.xs_1x1.png\"/>\n",
            "https://1.dam.s81c.com/p/0b5258b292cc8c3c/ibm-SPSS-home-card.png.global.xs_1x1.png\n",
            "<img alt=\"Illustration of workers digital planning with blue dots and post-its\" aria-describedby=\"bx--image-6\" class=\"bx--image__img\" src=\"https://1.dam.s81c.com/p/0b5258b33acc8e04/homepage-planning-analytics-card.png.global.xs_1x1.png\"/>\n",
            "https://1.dam.s81c.com/p/0b5258b33acc8e04/homepage-planning-analytics-card.png.global.xs_1x1.png\n",
            "<img alt=\"Grid of IBM consultant portraits\" class=\"bx--image__img\" src=\"https://1.dam.s81c.com/p/0aac9cf57bcbf324/dotcom-1-overview.jpg\"/>\n",
            "https://1.dam.s81c.com/p/0aac9cf57bcbf324/dotcom-1-overview.jpg\n"
          ]
        }
      ]
    },
    {
      "cell_type": "code",
      "source": [],
      "metadata": {
        "id": "ioNr6kVLpQv9"
      },
      "execution_count": 53,
      "outputs": []
    },
    {
      "cell_type": "code",
      "source": [
        "#The below url contains an html table with data about colors and color codes.\n",
        "url = \"https://cf-courses-data.s3.us.cloud-object-storage.appdomain.cloud/IBM-DA0321EN-SkillsNetwork/labs/datasets/HTMLColorCodes.html\""
      ],
      "metadata": {
        "id": "TTHWh2repW5a"
      },
      "execution_count": 54,
      "outputs": []
    },
    {
      "cell_type": "code",
      "source": [
        "# get the contents of the webpage in text format and store in a variable called data\n",
        "data  = requests.get(url).text"
      ],
      "metadata": {
        "id": "c6o-OHikpdjw"
      },
      "execution_count": 55,
      "outputs": []
    },
    {
      "cell_type": "code",
      "source": [
        "\n",
        "soup = BeautifulSoup(data,\"html5lib\")"
      ],
      "metadata": {
        "id": "-VtSf6-PpjVm"
      },
      "execution_count": 56,
      "outputs": []
    },
    {
      "cell_type": "code",
      "source": [
        "#find a html table in the web page\n",
        "table = soup.find('table') # in html table is represented by the tag <table>"
      ],
      "metadata": {
        "id": "o3ARQ6Ckp2ev"
      },
      "execution_count": 57,
      "outputs": []
    },
    {
      "cell_type": "code",
      "source": [
        "#Get all rows from the table\n",
        "for row in table.find_all('tr'): # in html table row is represented by the tag <tr>\n",
        "    # Get all columns in each row.\n",
        "    cols = row.find_all('td') # in html a column is represented by the tag <td>\n",
        "    color_name = cols[2].string # store the value in column 3 as color_name\n",
        "    color_code = cols[3].text # store the value in column 4 as color_code\n",
        "    print(\"{}--->{}\".format(color_name,color_code))"
      ],
      "metadata": {
        "colab": {
          "base_uri": "https://localhost:8080/"
        },
        "id": "I-6VpI7ap5sk",
        "outputId": "f6d04a1b-b15a-4070-ee8a-1eaf2931d3d8"
      },
      "execution_count": 58,
      "outputs": [
        {
          "output_type": "stream",
          "name": "stdout",
          "text": [
            "Color Name--->Hex Code#RRGGBB\n",
            "lightsalmon--->#FFA07A\n",
            "salmon--->#FA8072\n",
            "darksalmon--->#E9967A\n",
            "lightcoral--->#F08080\n",
            "coral--->#FF7F50\n",
            "tomato--->#FF6347\n",
            "orangered--->#FF4500\n",
            "gold--->#FFD700\n",
            "orange--->#FFA500\n",
            "darkorange--->#FF8C00\n",
            "lightyellow--->#FFFFE0\n",
            "lemonchiffon--->#FFFACD\n",
            "papayawhip--->#FFEFD5\n",
            "moccasin--->#FFE4B5\n",
            "peachpuff--->#FFDAB9\n",
            "palegoldenrod--->#EEE8AA\n",
            "khaki--->#F0E68C\n",
            "darkkhaki--->#BDB76B\n",
            "yellow--->#FFFF00\n",
            "lawngreen--->#7CFC00\n",
            "chartreuse--->#7FFF00\n",
            "limegreen--->#32CD32\n",
            "lime--->#00FF00\n",
            "forestgreen--->#228B22\n",
            "green--->#008000\n",
            "powderblue--->#B0E0E6\n",
            "lightblue--->#ADD8E6\n",
            "lightskyblue--->#87CEFA\n",
            "skyblue--->#87CEEB\n",
            "deepskyblue--->#00BFFF\n",
            "lightsteelblue--->#B0C4DE\n",
            "dodgerblue--->#1E90FF\n"
          ]
        }
      ]
    },
    {
      "cell_type": "code",
      "source": [],
      "metadata": {
        "id": "Hd6euUnFqAZZ"
      },
      "execution_count": null,
      "outputs": []
    }
  ]
}